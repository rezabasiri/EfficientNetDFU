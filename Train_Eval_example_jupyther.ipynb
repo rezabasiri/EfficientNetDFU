{
 "cells": [
  {
   "cell_type": "markdown",
   "metadata": {
    "colab_type": "text",
    "id": "CpynCqcAT-un"
   },
   "source": [
    "# Download and Set-Up Paths"
   ]
  },
  {
   "cell_type": "code",
   "execution_count": 2,
   "metadata": {
    "colab": {},
    "colab_type": "code",
    "executionInfo": {
     "elapsed": 3144,
     "status": "ok",
     "timestamp": 1595905005877,
     "user": {
      "displayName": "Reza Basiri",
      "photoUrl": "https://lh3.googleusercontent.com/a-/AOh14Gj0USSKZtYCAtISB0hjlk0pCU0HxT5KVtNiF04Z8A=s64",
      "userId": "06086156326319932591"
     },
     "user_tz": 240
    },
    "id": "NJW4TlXUimJg"
   },
   "outputs": [],
   "source": [
    "from __future__ import print_function\n",
    "from IPython import display\n",
    "import tensorflow.compat.v1 as tf\n",
    "import sys\n",
    "import os\n",
    "\n",
    "# Download source code.\n",
    "if \"efficientnet_model.py\" not in os.getcwd() or \"imagenet.py\" not in os.getcwd():\n",
    "  !git clone --depth 1 https://github.com/rezabasiri/EfficientNetDFU.git\n",
    "  display.clear_output()\n",
    "  os.chdir('EfficientNetDFU')\n",
    "  sys.path.append('.')\n",
    "  os.chdir('common')\n",
    "  sys.path.append('.')\n",
    "  os.chdir('..')\n",
    "else:\n",
    "  !git pull"
   ]
  },
  {
   "cell_type": "code",
   "execution_count": 3,
   "metadata": {
    "colab": {
     "base_uri": "https://localhost:8080/",
     "height": 34
    },
    "colab_type": "code",
    "executionInfo": {
     "elapsed": 5737,
     "status": "ok",
     "timestamp": 1595905008548,
     "user": {
      "displayName": "Reza Basiri",
      "photoUrl": "https://lh3.googleusercontent.com/a-/AOh14Gj0USSKZtYCAtISB0hjlk0pCU0HxT5KVtNiF04Z8A=s64",
      "userId": "06086156326319932591"
     },
     "user_tz": 240
    },
    "id": "kwwk_OhxnqNO",
    "outputId": "d5550fc7-e16b-4c6c-f591-3997a621927a"
   },
   "outputs": [
    {
     "name": "stdout",
     "output_type": "stream",
     "text": [
      "Use model checkpoint in /content/EfficientNetDFU/efficientnet-b0\n"
     ]
    }
   ],
   "source": [
    "MODEL = 'efficientnet-b0'\n",
    "\n",
    "def download(m):\n",
    "  if m not in os.listdir():\n",
    "    !wget https://storage.googleapis.com/cloud-tpu-checkpoints/efficientnet/ckpts/{m}.tar.gz\n",
    "    !tar xf {m}.tar.gz\n",
    "    display.clear_output()\n",
    "    !rm -rf {m}.tar.gz\n",
    "  ckpt_path = os.path.join(os.getcwd(), m)\n",
    "  return ckpt_path\n",
    "\n",
    "# Download checkpoint.\n",
    "ckpt_path = download(MODEL)\n",
    "print('Use model checkpoint in {}'.format(ckpt_path))"
   ]
  },
  {
   "cell_type": "markdown",
   "metadata": {
    "colab_type": "text",
    "id": "-M06NcURR-2O"
   },
   "source": [
    "\n",
    "# Set-Up Data\n"
   ]
  },
  {
   "cell_type": "code",
   "execution_count": null,
   "metadata": {
    "colab": {
     "base_uri": "https://localhost:8080/",
     "height": 100
    },
    "colab_type": "code",
    "id": "NMtd_UyPTYqq",
    "outputId": "ed374f21-927c-4f6f-f776-62a08e2f8598"
   },
   "outputs": [
    {
     "name": "stdout",
     "output_type": "stream",
     "text": [
      "2020-07-28 02:56:50.421860: I tensorflow/stream_executor/platform/default/dso_loader.cc:44] Successfully opened dynamic library libcudart.so.10.1\n",
      "I0728 02:56:51.973358 140315061675904 create_coco_tfrecord.py:288] writing to output path: tfrecord/train\n"
     ]
    }
   ],
   "source": [
    "# Prepare Training Data\n",
    "!rm -rf *.zip *.tar tfrecord/ val2017/\n",
    "!mkdir tfrecord\n",
    "!PYTHONPATH=\".:$PYTHONPATH\"  python dataset/create_coco_tfrecord.py \\\n",
    "      --image_dir=\"/cluster/home/t62003uhn/Dataset/Chess/Images\" \\\n",
    "      --object_annotations_file=\"/cluster/home/t62003uhn/Dataset/Chess/annotations/instances_Images.json\" \\\n",
    "      --output_file_prefix=tfrecord/train \\\n",
    "      --num_shards=1"
   ]
  },
  {
   "cell_type": "code",
   "execution_count": null,
   "metadata": {
    "colab": {},
    "colab_type": "code",
    "id": "7KKnIwD4wG9H"
   },
   "outputs": [],
   "source": [
    "# Prepare Validation Data\n",
    "!PYTHONPATH=\".:$PYTHONPATH\"  python dataset/create_coco_tfrecord.py \\\n",
    "      --image_dir=\"/cluster/home/t62003uhn/Dataset/ChessVal/ImagesVal\" \\\n",
    "      --object_annotations_file=\"/cluster/home/t62003uhn/Dataset/ChessVal/annotations/instances_ImagesVal.json\" \\\n",
    "      --output_file_prefix=tfrecord/validation \\\n",
    "      --num_shards=1"
   ]
  },
  {
   "cell_type": "code",
   "execution_count": null,
   "metadata": {
    "colab": {},
    "colab_type": "code",
    "id": "WqhlBzpdw247"
   },
   "outputs": [],
   "source": [
    "file_pattern = 'train-*-of-00001.tfrecord' # Update to match the number of shards for training set\n",
    "file_patternVal = 'validation-*-of-00001.tfrecord' # Update to match the number of shards for valid set\n",
    "\n",
    "images_per_epoch = 57 * len(tf.io.gfile.glob('tfrecord/' + file_pattern))\n",
    "images_per_epoch = images_per_epoch // 8 * 8  # round to 64.\n",
    "\n",
    "images_per_epochVal = 57 * len(tf.io.gfile.glob('tfrecord/' + file_patternVal))\n",
    "images_per_epochVal = images_per_epochVal // 8 * 8  # round to 64.\n",
    "\n",
    "print('images_per_epoch = {}'.format(images_per_epoch))\n",
    "print('images_per_epochVal = {}'.format(images_per_epochVal))"
   ]
  },
  {
   "cell_type": "markdown",
   "metadata": {
    "colab_type": "text",
    "id": "KDz5-paKwKIG"
   },
   "source": [
    "# Create the Model and Run Train-Eval"
   ]
  },
  {
   "cell_type": "code",
   "execution_count": null,
   "metadata": {
    "colab": {},
    "colab_type": "code",
    "id": "Bx--gzAkwykW"
   },
   "outputs": [],
   "source": [
    "!mkdir model_dir/\n",
    "!python main.py --mode=train_and_eval \\\n",
    "    --data_dir=tfrecord \\\n",
    "    --model_name={MODEL} \\\n",
    "    --model_dir=model_dir/{MODEL}-finetune \\\n",
    "    --train_batch_size=8 \\\n",
    "    --eval_batch_size=8 \\\n",
    "    --num_eval_images=399 \\\n",
    "    --num_train_images=1601 \\\n",
    "    --num_label_classes=1 \\\n",
    "    --use_tpu=false \\\n",
    "    --train_steps=50000 \\\n",
    "    --steps_per_eval=500 \\\n",
    "    --moving_average_decay=0 \\\n",
    "    --base_learning_rate=0.01 \\"
   ]
  },
  {
   "cell_type": "code",
   "execution_count": null,
   "metadata": {
    "colab": {},
    "colab_type": "code",
    "id": "z2HMCZuQBQ75"
   },
   "outputs": [],
   "source": [
    "#{images_per_epochVal}  \n",
    "#{images_per_epoch} \n",
    "# !wget https://storage.googleapis.com/cloud-tpu-checkpoints/efficientnet/eval_data/labels_map.txt -O labels_map.txt"
   ]
  },
  {
   "cell_type": "code",
   "execution_count": null,
   "metadata": {
    "colab": {},
    "colab_type": "code",
    "id": "lOoibMxKVyAX"
   },
   "outputs": [],
   "source": [
    "# import eval_ckpt_main as eval_ckpt\n",
    "# import tensorflow.compat.v1 as tf\n",
    "\n",
    "# !wget https://storage.googleapis.com/cloud-tpu-checkpoints/efficientnet/ckpts/{model_name}.tar.gz -O {model_name}.tar.gz\n",
    "# !tar xf {model_name}.tar.gz\n",
    "# ckpt_dir = model_name\n",
    "# !wget https://storage.googleapis.com/cloud-tpu-checkpoints/efficientnet/eval_data/labels_map.txt -O labels_map.txt\n",
    "# labels_map_file = 'labels_map.txt'\n",
    "\n",
    "\n",
    "# image_files = [image_file]\n",
    "# eval_driver = eval_ckpt.get_eval_driver(model_name)\n",
    "# pred_idx, pred_prob = eval_driver.eval_example_images(\n",
    "#     ckpt_dir, image_files, labels_map_file)"
   ]
  },
  {
   "cell_type": "code",
   "execution_count": null,
   "metadata": {
    "colab": {},
    "colab_type": "code",
    "id": "aUbQRUU8BSKB"
   },
   "outputs": [],
   "source": [
    "# %load_ext tensorboard\n",
    "# %tensorboard --logdir model_dir/"
   ]
  }
 ],
 "metadata": {
  "accelerator": "GPU",
  "colab": {
   "collapsed_sections": [],
   "name": "Train_Eval_example.ipynb",
   "provenance": [],
   "toc_visible": true
  },
  "kernelspec": {
   "display_name": "Python 3",
   "language": "python",
   "name": "python3"
  },
  "language_info": {
   "codemirror_mode": {
    "name": "ipython",
    "version": 3
   },
   "file_extension": ".py",
   "mimetype": "text/x-python",
   "name": "python",
   "nbconvert_exporter": "python",
   "pygments_lexer": "ipython3",
   "version": "3.7.4"
  }
 },
 "nbformat": 4,
 "nbformat_minor": 4
}
